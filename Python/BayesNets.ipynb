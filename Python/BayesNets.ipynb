{
 "cells": [
  {
   "cell_type": "code",
   "execution_count": 585,
   "metadata": {
    "collapsed": true
   },
   "outputs": [],
   "source": [
    "import numpy as np\n",
    "import pandas as pd\n",
    "import matplotlib.pyplot as plt\n",
    "import itertools\n",
    "\n",
    "%matplotlib inline\n"
   ]
  },
  {
   "cell_type": "code",
   "execution_count": 713,
   "metadata": {
    "collapsed": false
   },
   "outputs": [],
   "source": [
    "def create_cpt(var_names, probs, levels_list):\n",
    "    \"\"\"\n",
    "    This method generates a pandas dataframe as a conditional probability table\n",
    "    \n",
    "    Args:\n",
    "        :param var_names: (list string) list of variable names\n",
    "        :param probs: (list double) vector of probabilities for the flattened probability table\n",
    "        :param levels_list: (list string tuples) list of outcomes for each variable i.e. high or low\n",
    "        \n",
    "    Returns:\n",
    "        :return cpt: (pandas.DatFrame) The conditional probability table\n",
    "    \"\"\"\n",
    "    \n",
    "    # Create the data frame\n",
    "    cpt = pd.DataFrame(columns=[\"probs\"] + var_names)\n",
    "    \n",
    "    # Fill in the probabilities\n",
    "    cpt[\"probs\"] = probs\n",
    "    \n",
    "    # Step through and set the levels of each variable\n",
    "    levels_table = list(itertools.product(*(levels_list)))\n",
    "    \n",
    "    if not len(levels_table) == len(probs):\n",
    "        print \"ERROR:: Incorrect probability dimensions\"\n",
    "        return None\n",
    "    \n",
    "    cpt[var_names] = levels_table\n",
    "    return cpt\n",
    "\n",
    "def observe(network, var_name, observation):\n",
    "    \"\"\"\n",
    "    Observes a given variable in our network.  This just deletes all entries not consistent\n",
    "    with the observation\n",
    "    \n",
    "    Args:\n",
    "        :param network: (list pandas.dataframe) tlist of the cpts in the network\n",
    "        :param var_name: (list string) name of the observed variables\n",
    "        :param observation: (list string) values that are observed \n",
    "    \n",
    "    Returns:\n",
    "        :return: (pandas.dataframe) \n",
    "    \n",
    "    \"\"\"\n",
    "    observed_network = []\n",
    "    for cpt in network:\n",
    "        for var,obs in zip(var_name, observation):\n",
    "            if var in cpt.columns:\n",
    "                cpt = cpt[cpt[var] == obs]\n",
    "        observed_network.append(cpt)\n",
    "    \n",
    "    return observed_network\n",
    "\n",
    "def create_cpt_from_data():\n",
    "    pass\n",
    "\n",
    "def marginalize_factor(cpt, factor):\n",
    "    \"\"\"\n",
    "    This method marginalizes out a single factor by summing over all possible value combinations for that factor\n",
    "    \"\"\"\n",
    "    # Drop the factor to be marginalized out\n",
    "    probs = cpt[\"probs\"]\n",
    "    cpt = cpt.drop([factor, \"probs\"], axis=1)\n",
    "    \n",
    "    # Create a new table to store marginalized values\n",
    "    marginalized_cpt = pd.DataFrame(columns=list(cpt.columns))\n",
    "    marginalized_probs = []\n",
    "    \n",
    "    # Marginalize the cpt\n",
    "    while cpt.shape[0] > 0:\n",
    "        # Find all positions that have the same feature pattern\n",
    "        positions = [x for x in range(0, cpt.shape[0]) if sum(cpt.iloc[0] == cpt.iloc[x]) == cpt.shape[1]]\n",
    "        \n",
    "        # Sum up all probabilities\n",
    "        marginalized_probs.append(sum(probs[probs.index[positions]]))\n",
    "        \n",
    "        # add the factor configuration to the marginalized cpt\n",
    "        marginalized_cpt = marginalized_cpt.append(cpt[:1])\n",
    "        \n",
    "        # Drop all positions that have been summed\n",
    "        cpt = cpt.drop(cpt.index[positions], axis=0)\n",
    "        probs = probs.drop(probs.index[positions], axis=0)\n",
    "    \n",
    "    #marginalized_cpt[\"probs\"] = marginalized_probs\n",
    "    marginalized_cpt.insert(0, \"probs\", marginalized_probs)\n",
    "    return marginalized_cpt\n",
    "        \n",
    "\n",
    "def marginalize_factors(cpt, factors):\n",
    "    \"\"\"\n",
    "    marginalizes out a list of factors from a single cpt\n",
    "    \n",
    "    Args:\n",
    "        :param cpt: (pandas.DataFrame)\n",
    "        :param factors: (list string)\n",
    "    \n",
    "    Returns:\n",
    "        :return cpt: (pandas.DataFrame)\n",
    "    \"\"\"\n",
    "    for factor in factors:\n",
    "        cpt = marginalize_factor(cpt, factor)\n",
    "    \n",
    "    return cpt\n",
    "\n",
    "def marginalize(network, factors):\n",
    "    \"\"\"\n",
    "    marginalizes out a list of factors from a network of cpts\n",
    "    \n",
    "    Args:\n",
    "        :param network: (list pandas.DataFrame)\n",
    "        :param factors: (list string)\n",
    "    \n",
    "    Returns:\n",
    "        :return marginalized_network: (list pandas.DataFrame)\n",
    "    \"\"\"\n",
    "    marginalized_network = []\n",
    "    for cpt in network:\n",
    "        cpt = marginalize_factors(cpt, factors)\n",
    "        marginalized_network.append(cpt)\n",
    "    return marginalized_network\n",
    "        \n",
    "\n",
    "\n",
    "def factor_product(cpt1, cpt2):\n",
    "    \"\"\"\n",
    "    This method takes the factor product of two cpts by multiplying where the variables overlap\n",
    "    \n",
    "    Args:\n",
    "        :param cpt1: (pandas.DataFrame)\n",
    "        :param cpt2: (pandas.DataFrame)\n",
    "        \n",
    "    Returns:\n",
    "        :returns cpt: (pandas.DataFrame)\n",
    "    \"\"\"\n",
    "    # Find the names of all columns\n",
    "    column_names = list(set(cpt1.columns).union(set(cpt2.columns)).difference(set([\"probs\"])))\n",
    "    shared_features = list(set(cpt1.columns).intersection(set(cpt2.columns)).difference(set([\"probs\"])))\n",
    "    probs = []\n",
    "    \n",
    "    # Create an empty data frame to store the product cpt table\n",
    "    cpt = pd.DataFrame(columns=column_names)\n",
    "    idx = 0\n",
    "    for i in range(0, cpt1.shape[0]):\n",
    "        for j in range(0, cpt2.shape[0]):\n",
    "            if sum(cpt1[shared_features].iloc[i] == cpt2[shared_features].iloc[j]) == len(shared_features):\n",
    "                probs.append(cpt1[\"probs\"].iloc[i] * cpt2[\"probs\"].iloc[j])\n",
    "                vals = []\n",
    "                for name in column_names:\n",
    "                    if name in cpt1.columns:\n",
    "                        vals.append(cpt1[name].iloc[i])\n",
    "                    else:\n",
    "                        vals.append(cpt2[name].iloc[j])\n",
    "                cpt.loc[idx] = vals\n",
    "                idx = idx + 1\n",
    "                \n",
    "    cpt.insert(0, \"probs\", probs)\n",
    "    return cpt\n",
    "\n",
    "def infer(network, marg_vars, obs_vars, obs_vals):\n",
    "    \"\"\"\n",
    "    This function performs inference on a bayesian network\n",
    "    \n",
    "    Args:\n",
    "        :param network: (list pandas.DataFrame)\n",
    "        :param marg_vars: (list string)\n",
    "        :param obs_vars: (list string)\n",
    "        :param obs_vals: (list int)\n",
    "    \n",
    "    Returns:\n",
    "        :returns:\n",
    "    \"\"\"\n",
    "    # Observe variables\n",
    "    network = observe(network, obs_vars, obs_vals)\n",
    "    \n",
    "    # while there are still variables to be marginalized\n",
    "    for marg_var in marg_vars:\n",
    "        marg_net = []\n",
    "        rm_nodes = []\n",
    "        for i, node in enumerate(network):\n",
    "            if marg_var in node.columns:\n",
    "                marg_net.append(node)\n",
    "                rm_nodes.append(i)\n",
    "                \n",
    "        # Check to see if marg_vars is present\n",
    "        if not len(marg_net) == 0:\n",
    "            table = marg_net[0]\n",
    "            \n",
    "            # delete marginalized nodes from network\n",
    "            rm_nodes.reverse()\n",
    "            for rm in rm_nodes:\n",
    "                del network[rm]\n",
    "                \n",
    "            # marginalize out variables\n",
    "            for cpt in marg_net[1:]:\n",
    "                table = factor_product(table, cpt)\n",
    "                \n",
    "            marginalized_table = marginalize_factor(table, marg_var)\n",
    "            network.append(marginalized_table)            \n",
    "    \n",
    "    # When all variables have been marginalized product the table together\n",
    "    product = network[0]\n",
    "    for node in network[1:]:\n",
    "        product = factor_product(product, node)\n",
    "        \n",
    "    # Normalize\n",
    "    product[\"probs\"] = product[\"probs\"] / sum(product[\"probs\"])\n",
    "    \n",
    "    return product\n",
    "    "
   ]
  },
  {
   "cell_type": "code",
   "execution_count": null,
   "metadata": {
    "collapsed": false
   },
   "outputs": [],
   "source": []
  },
  {
   "cell_type": "code",
   "execution_count": null,
   "metadata": {
    "collapsed": false
   },
   "outputs": [],
   "source": []
  },
  {
   "cell_type": "code",
   "execution_count": 645,
   "metadata": {
    "collapsed": false
   },
   "outputs": [
    {
     "data": {
      "text/plain": [
       "[   probs  y  x\n",
       " 1    0.4  1  0]"
      ]
     },
     "execution_count": 645,
     "metadata": {},
     "output_type": "execute_result"
    }
   ],
   "source": [
    "var_names = [\"x\"]\n",
    "probs = [.3, .7]\n",
    "levels = [(1, 0)]\n",
    "x = create_cpt(var_names, probs, levels)\n",
    "var_names = [\"y\", \"x\"]\n",
    "probs = [.8, .4, .2, .6]\n",
    "levels = [(1, 0), (1, 0)]\n",
    "y = create_cpt(var_names, probs, levels)\n",
    "var_names = [\"z\", \"y\"]\n",
    "probs = [.5, .6, .5, .4]\n",
    "levels = [(1, 0), (1, 0)]\n",
    "z = create_cpt(var_names, probs, levels)\n",
    "var_names = [\"x\", \"y\", \"z\"]\n",
    "probs = [.5, .6, .5, .4, .1, .2,.3,.4]\n",
    "levels = [(1, 0), (1, 0), (1, 0)]\n",
    "w = create_cpt(var_names, probs, levels)\n",
    "xyznet = [x, y, z]\n",
    "#cpt = cpt[cpt[\"x\"] != 0]\n",
    "cpt2 = observe([y], [\"x\", \"y\"], [0, 1])\n",
    "cpt2"
   ]
  },
  {
   "cell_type": "code",
   "execution_count": null,
   "metadata": {
    "collapsed": true
   },
   "outputs": [],
   "source": []
  },
  {
   "cell_type": "code",
   "execution_count": 636,
   "metadata": {
    "collapsed": false
   },
   "outputs": [
    {
     "name": "stdout",
     "output_type": "stream",
     "text": [
      "True\n",
      "[   probs  y  x\n",
      "0    0.8  1  1\n",
      "1    0.4  1  0\n",
      "2    0.2  0  1\n",
      "3    0.6  0  0,    probs  z  y\n",
      "0    0.5  1  1\n",
      "1    0.6  1  0\n",
      "2    0.5  0  1\n",
      "3    0.4  0  0]\n",
      "False\n"
     ]
    },
    {
     "data": {
      "text/plain": [
       "[   probs  y  x\n",
       " 0    0.8  1  1\n",
       " 1    0.4  1  0\n",
       " 2    0.2  0  1\n",
       " 3    0.6  0  0,    probs  z  y\n",
       " 0    0.5  1  1\n",
       " 1    0.6  1  0\n",
       " 2    0.5  0  1\n",
       " 3    0.4  0  0]"
      ]
     },
     "execution_count": 636,
     "metadata": {},
     "output_type": "execute_result"
    }
   ],
   "source": [
    "infer(xyznet, [\"x\"], [], [])"
   ]
  },
  {
   "cell_type": "code",
   "execution_count": 588,
   "metadata": {
    "collapsed": false
   },
   "outputs": [
    {
     "data": {
      "text/html": [
       "<div>\n",
       "<table border=\"1\" class=\"dataframe\">\n",
       "  <thead>\n",
       "    <tr style=\"text-align: right;\">\n",
       "      <th></th>\n",
       "      <th>probs</th>\n",
       "      <th>y</th>\n",
       "      <th>x</th>\n",
       "    </tr>\n",
       "  </thead>\n",
       "  <tbody>\n",
       "    <tr>\n",
       "      <th>0</th>\n",
       "      <td>0.24</td>\n",
       "      <td>1</td>\n",
       "      <td>1</td>\n",
       "    </tr>\n",
       "    <tr>\n",
       "      <th>1</th>\n",
       "      <td>0.06</td>\n",
       "      <td>0</td>\n",
       "      <td>1</td>\n",
       "    </tr>\n",
       "    <tr>\n",
       "      <th>2</th>\n",
       "      <td>0.28</td>\n",
       "      <td>1</td>\n",
       "      <td>0</td>\n",
       "    </tr>\n",
       "    <tr>\n",
       "      <th>3</th>\n",
       "      <td>0.42</td>\n",
       "      <td>0</td>\n",
       "      <td>0</td>\n",
       "    </tr>\n",
       "  </tbody>\n",
       "</table>\n",
       "</div>"
      ],
      "text/plain": [
       "   probs  y  x\n",
       "0   0.24  1  1\n",
       "1   0.06  0  1\n",
       "2   0.28  1  0\n",
       "3   0.42  0  0"
      ]
     },
     "execution_count": 588,
     "metadata": {},
     "output_type": "execute_result"
    }
   ],
   "source": [
    "factor_product(x,y)"
   ]
  },
  {
   "cell_type": "code",
   "execution_count": 589,
   "metadata": {
    "collapsed": false
   },
   "outputs": [
    {
     "data": {
      "text/html": [
       "<div>\n",
       "<table border=\"1\" class=\"dataframe\">\n",
       "  <thead>\n",
       "    <tr style=\"text-align: right;\">\n",
       "      <th></th>\n",
       "      <th>probs</th>\n",
       "      <th>y</th>\n",
       "      <th>x</th>\n",
       "      <th>z</th>\n",
       "    </tr>\n",
       "  </thead>\n",
       "  <tbody>\n",
       "    <tr>\n",
       "      <th>0</th>\n",
       "      <td>0.120</td>\n",
       "      <td>1</td>\n",
       "      <td>1</td>\n",
       "      <td>1</td>\n",
       "    </tr>\n",
       "    <tr>\n",
       "      <th>1</th>\n",
       "      <td>0.120</td>\n",
       "      <td>1</td>\n",
       "      <td>1</td>\n",
       "      <td>0</td>\n",
       "    </tr>\n",
       "    <tr>\n",
       "      <th>2</th>\n",
       "      <td>0.036</td>\n",
       "      <td>0</td>\n",
       "      <td>1</td>\n",
       "      <td>1</td>\n",
       "    </tr>\n",
       "    <tr>\n",
       "      <th>3</th>\n",
       "      <td>0.024</td>\n",
       "      <td>0</td>\n",
       "      <td>1</td>\n",
       "      <td>0</td>\n",
       "    </tr>\n",
       "    <tr>\n",
       "      <th>4</th>\n",
       "      <td>0.140</td>\n",
       "      <td>1</td>\n",
       "      <td>0</td>\n",
       "      <td>1</td>\n",
       "    </tr>\n",
       "    <tr>\n",
       "      <th>5</th>\n",
       "      <td>0.140</td>\n",
       "      <td>1</td>\n",
       "      <td>0</td>\n",
       "      <td>0</td>\n",
       "    </tr>\n",
       "    <tr>\n",
       "      <th>6</th>\n",
       "      <td>0.252</td>\n",
       "      <td>0</td>\n",
       "      <td>0</td>\n",
       "      <td>1</td>\n",
       "    </tr>\n",
       "    <tr>\n",
       "      <th>7</th>\n",
       "      <td>0.168</td>\n",
       "      <td>0</td>\n",
       "      <td>0</td>\n",
       "      <td>0</td>\n",
       "    </tr>\n",
       "  </tbody>\n",
       "</table>\n",
       "</div>"
      ],
      "text/plain": [
       "   probs  y  x  z\n",
       "0  0.120  1  1  1\n",
       "1  0.120  1  1  0\n",
       "2  0.036  0  1  1\n",
       "3  0.024  0  1  0\n",
       "4  0.140  1  0  1\n",
       "5  0.140  1  0  0\n",
       "6  0.252  0  0  1\n",
       "7  0.168  0  0  0"
      ]
     },
     "execution_count": 589,
     "metadata": {},
     "output_type": "execute_result"
    }
   ],
   "source": [
    "factor_product(factor_product(x, y), z)"
   ]
  },
  {
   "cell_type": "code",
   "execution_count": 590,
   "metadata": {
    "collapsed": false
   },
   "outputs": [
    {
     "data": {
      "text/html": [
       "<div>\n",
       "<table border=\"1\" class=\"dataframe\">\n",
       "  <thead>\n",
       "    <tr style=\"text-align: right;\">\n",
       "      <th></th>\n",
       "      <th>probs</th>\n",
       "      <th>y</th>\n",
       "    </tr>\n",
       "  </thead>\n",
       "  <tbody>\n",
       "    <tr>\n",
       "      <th>0</th>\n",
       "      <td>0.52</td>\n",
       "      <td>1</td>\n",
       "    </tr>\n",
       "    <tr>\n",
       "      <th>1</th>\n",
       "      <td>0.48</td>\n",
       "      <td>0</td>\n",
       "    </tr>\n",
       "  </tbody>\n",
       "</table>\n",
       "</div>"
      ],
      "text/plain": [
       "   probs  y\n",
       "0   0.52  1\n",
       "1   0.48  0"
      ]
     },
     "execution_count": 590,
     "metadata": {},
     "output_type": "execute_result"
    }
   ],
   "source": [
    "marginalize_factor(factor_product(x, y), \"x\")"
   ]
  },
  {
   "cell_type": "code",
   "execution_count": 591,
   "metadata": {
    "collapsed": false
   },
   "outputs": [
    {
     "data": {
      "text/html": [
       "<div>\n",
       "<table border=\"1\" class=\"dataframe\">\n",
       "  <thead>\n",
       "    <tr style=\"text-align: right;\">\n",
       "      <th></th>\n",
       "      <th>probs</th>\n",
       "      <th>y</th>\n",
       "      <th>x</th>\n",
       "    </tr>\n",
       "  </thead>\n",
       "  <tbody>\n",
       "    <tr>\n",
       "      <th>0</th>\n",
       "      <td>0.8</td>\n",
       "      <td>1</td>\n",
       "      <td>1</td>\n",
       "    </tr>\n",
       "    <tr>\n",
       "      <th>2</th>\n",
       "      <td>0.4</td>\n",
       "      <td>1</td>\n",
       "      <td>0</td>\n",
       "    </tr>\n",
       "    <tr>\n",
       "      <th>4</th>\n",
       "      <td>0.2</td>\n",
       "      <td>0</td>\n",
       "      <td>1</td>\n",
       "    </tr>\n",
       "    <tr>\n",
       "      <th>6</th>\n",
       "      <td>0.6</td>\n",
       "      <td>0</td>\n",
       "      <td>0</td>\n",
       "    </tr>\n",
       "  </tbody>\n",
       "</table>\n",
       "</div>"
      ],
      "text/plain": [
       "   probs  y  x\n",
       "0    0.8  1  1\n",
       "2    0.4  1  0\n",
       "4    0.2  0  1\n",
       "6    0.6  0  0"
      ]
     },
     "execution_count": 591,
     "metadata": {},
     "output_type": "execute_result"
    }
   ],
   "source": [
    "marginalize_factor(factor_product(y, z), \"z\")"
   ]
  },
  {
   "cell_type": "code",
   "execution_count": 592,
   "metadata": {
    "collapsed": false
   },
   "outputs": [
    {
     "data": {
      "text/plain": [
       "[   probs  x\n",
       " 0    0.3  1,    probs  y  x\n",
       " 0    0.8  1  1\n",
       " 2    0.2  0  1,    probs  z  y\n",
       " 0    0.5  1  1\n",
       " 1    0.6  1  0\n",
       " 2    0.5  0  1\n",
       " 3    0.4  0  0]"
      ]
     },
     "execution_count": 592,
     "metadata": {},
     "output_type": "execute_result"
    }
   ],
   "source": [
    "observe(xyznet, [\"x\"], [1])"
   ]
  },
  {
   "cell_type": "code",
   "execution_count": 593,
   "metadata": {
    "collapsed": false
   },
   "outputs": [
    {
     "data": {
      "text/plain": [
       "[   probs  x\n",
       " 0    0.3  1,    probs  y  x\n",
       " 0    0.8  1  1,    probs  z  y\n",
       " 0    0.5  1  1\n",
       " 2    0.5  0  1]"
      ]
     },
     "execution_count": 593,
     "metadata": {},
     "output_type": "execute_result"
    }
   ],
   "source": [
    "observe(xyznet, [\"x\", \"y\"], [1, 1])"
   ]
  },
  {
   "cell_type": "code",
   "execution_count": null,
   "metadata": {
    "collapsed": false
   },
   "outputs": [],
   "source": []
  },
  {
   "cell_type": "code",
   "execution_count": 595,
   "metadata": {
    "collapsed": true
   },
   "outputs": [],
   "source": [
    "# Koeller Example\n",
    "var_names = [\"a\", \"b\", \"c\"]\n",
    "probs = [.25, .35, .08, .16, .05, .07, 0, 0, .15, .21, .09, .18]\n",
    "levels = [(1, 2, 3), (1, 2), (1, 2)]\n",
    "koeller = create_cpt(var_names, probs, levels)"
   ]
  },
  {
   "cell_type": "code",
   "execution_count": 596,
   "metadata": {
    "collapsed": false
   },
   "outputs": [
    {
     "data": {
      "text/html": [
       "<div>\n",
       "<table border=\"1\" class=\"dataframe\">\n",
       "  <thead>\n",
       "    <tr style=\"text-align: right;\">\n",
       "      <th></th>\n",
       "      <th>probs</th>\n",
       "      <th>a</th>\n",
       "      <th>c</th>\n",
       "    </tr>\n",
       "  </thead>\n",
       "  <tbody>\n",
       "    <tr>\n",
       "      <th>0</th>\n",
       "      <td>0.33</td>\n",
       "      <td>1</td>\n",
       "      <td>1</td>\n",
       "    </tr>\n",
       "    <tr>\n",
       "      <th>1</th>\n",
       "      <td>0.51</td>\n",
       "      <td>1</td>\n",
       "      <td>2</td>\n",
       "    </tr>\n",
       "    <tr>\n",
       "      <th>4</th>\n",
       "      <td>0.05</td>\n",
       "      <td>2</td>\n",
       "      <td>1</td>\n",
       "    </tr>\n",
       "    <tr>\n",
       "      <th>5</th>\n",
       "      <td>0.07</td>\n",
       "      <td>2</td>\n",
       "      <td>2</td>\n",
       "    </tr>\n",
       "    <tr>\n",
       "      <th>8</th>\n",
       "      <td>0.24</td>\n",
       "      <td>3</td>\n",
       "      <td>1</td>\n",
       "    </tr>\n",
       "    <tr>\n",
       "      <th>9</th>\n",
       "      <td>0.39</td>\n",
       "      <td>3</td>\n",
       "      <td>2</td>\n",
       "    </tr>\n",
       "  </tbody>\n",
       "</table>\n",
       "</div>"
      ],
      "text/plain": [
       "   probs  a  c\n",
       "0   0.33  1  1\n",
       "1   0.51  1  2\n",
       "4   0.05  2  1\n",
       "5   0.07  2  2\n",
       "8   0.24  3  1\n",
       "9   0.39  3  2"
      ]
     },
     "execution_count": 596,
     "metadata": {},
     "output_type": "execute_result"
    }
   ],
   "source": [
    "marginalize_factor(koeller, \"b\")"
   ]
  },
  {
   "cell_type": "code",
   "execution_count": 602,
   "metadata": {
    "collapsed": false
   },
   "outputs": [],
   "source": [
    "# My Example Marginalization\n",
    "var_names = [\"s\", \"c\"]\n",
    "probs = [.8, .2, .4, .6]\n",
    "levels = [(1, 0), (1, 0)]\n",
    "chol = create_cpt(var_names, probs, levels)\n",
    "var_names = [\"s\"]\n",
    "probs = [.15, .85]\n",
    "levels = [(1, 0)]\n",
    "smoke = create_cpt(var_names, probs, levels)"
   ]
  },
  {
   "cell_type": "code",
   "execution_count": 603,
   "metadata": {
    "collapsed": false
   },
   "outputs": [
    {
     "data": {
      "text/html": [
       "<div>\n",
       "<table border=\"1\" class=\"dataframe\">\n",
       "  <thead>\n",
       "    <tr style=\"text-align: right;\">\n",
       "      <th></th>\n",
       "      <th>probs</th>\n",
       "      <th>s</th>\n",
       "    </tr>\n",
       "  </thead>\n",
       "  <tbody>\n",
       "    <tr>\n",
       "      <th>0</th>\n",
       "      <td>1</td>\n",
       "      <td>1</td>\n",
       "    </tr>\n",
       "    <tr>\n",
       "      <th>2</th>\n",
       "      <td>1</td>\n",
       "      <td>0</td>\n",
       "    </tr>\n",
       "  </tbody>\n",
       "</table>\n",
       "</div>"
      ],
      "text/plain": [
       "   probs  s\n",
       "0      1  1\n",
       "2      1  0"
      ]
     },
     "execution_count": 603,
     "metadata": {},
     "output_type": "execute_result"
    }
   ],
   "source": [
    "marginalize_factor(mine, \"c\")"
   ]
  },
  {
   "cell_type": "code",
   "execution_count": 604,
   "metadata": {
    "collapsed": false
   },
   "outputs": [
    {
     "data": {
      "text/html": [
       "<div>\n",
       "<table border=\"1\" class=\"dataframe\">\n",
       "  <thead>\n",
       "    <tr style=\"text-align: right;\">\n",
       "      <th></th>\n",
       "      <th>probs</th>\n",
       "      <th>c</th>\n",
       "      <th>s</th>\n",
       "    </tr>\n",
       "  </thead>\n",
       "  <tbody>\n",
       "    <tr>\n",
       "      <th>0</th>\n",
       "      <td>0.12</td>\n",
       "      <td>1</td>\n",
       "      <td>1</td>\n",
       "    </tr>\n",
       "    <tr>\n",
       "      <th>1</th>\n",
       "      <td>0.03</td>\n",
       "      <td>0</td>\n",
       "      <td>1</td>\n",
       "    </tr>\n",
       "    <tr>\n",
       "      <th>2</th>\n",
       "      <td>0.34</td>\n",
       "      <td>1</td>\n",
       "      <td>0</td>\n",
       "    </tr>\n",
       "    <tr>\n",
       "      <th>3</th>\n",
       "      <td>0.51</td>\n",
       "      <td>0</td>\n",
       "      <td>0</td>\n",
       "    </tr>\n",
       "  </tbody>\n",
       "</table>\n",
       "</div>"
      ],
      "text/plain": [
       "   probs  c  s\n",
       "0   0.12  1  1\n",
       "1   0.03  0  1\n",
       "2   0.34  1  0\n",
       "3   0.51  0  0"
      ]
     },
     "execution_count": 604,
     "metadata": {},
     "output_type": "execute_result"
    }
   ],
   "source": [
    "factor_product(chol, smoke)"
   ]
  },
  {
   "cell_type": "code",
   "execution_count": 637,
   "metadata": {
    "collapsed": false
   },
   "outputs": [],
   "source": [
    "# Bishop Example\n",
    "b = create_cpt([\"battery\"], [.9, .1], [(1,0)])\n",
    "f = create_cpt([\"fuel\"], [.9, .1], [(1,0)])\n",
    "g = create_cpt([\"gauge\", \"battery\", \"fuel\"], [.8, .2, .2, .1, .2, .8, .8, .9], [(1,0), (1,0), (1,0)])\n",
    "car_net = [b, f, g]"
   ]
  },
  {
   "cell_type": "code",
   "execution_count": 638,
   "metadata": {
    "collapsed": false
   },
   "outputs": [
    {
     "data": {
      "text/html": [
       "<div>\n",
       "<table border=\"1\" class=\"dataframe\">\n",
       "  <thead>\n",
       "    <tr style=\"text-align: right;\">\n",
       "      <th></th>\n",
       "      <th>probs</th>\n",
       "      <th>gauge</th>\n",
       "      <th>battery</th>\n",
       "      <th>fuel</th>\n",
       "    </tr>\n",
       "  </thead>\n",
       "  <tbody>\n",
       "    <tr>\n",
       "      <th>0</th>\n",
       "      <td>0.8</td>\n",
       "      <td>1</td>\n",
       "      <td>1</td>\n",
       "      <td>1</td>\n",
       "    </tr>\n",
       "    <tr>\n",
       "      <th>1</th>\n",
       "      <td>0.2</td>\n",
       "      <td>1</td>\n",
       "      <td>1</td>\n",
       "      <td>0</td>\n",
       "    </tr>\n",
       "    <tr>\n",
       "      <th>2</th>\n",
       "      <td>0.2</td>\n",
       "      <td>1</td>\n",
       "      <td>0</td>\n",
       "      <td>1</td>\n",
       "    </tr>\n",
       "    <tr>\n",
       "      <th>3</th>\n",
       "      <td>0.1</td>\n",
       "      <td>1</td>\n",
       "      <td>0</td>\n",
       "      <td>0</td>\n",
       "    </tr>\n",
       "    <tr>\n",
       "      <th>4</th>\n",
       "      <td>0.2</td>\n",
       "      <td>0</td>\n",
       "      <td>1</td>\n",
       "      <td>1</td>\n",
       "    </tr>\n",
       "    <tr>\n",
       "      <th>5</th>\n",
       "      <td>0.8</td>\n",
       "      <td>0</td>\n",
       "      <td>1</td>\n",
       "      <td>0</td>\n",
       "    </tr>\n",
       "    <tr>\n",
       "      <th>6</th>\n",
       "      <td>0.8</td>\n",
       "      <td>0</td>\n",
       "      <td>0</td>\n",
       "      <td>1</td>\n",
       "    </tr>\n",
       "    <tr>\n",
       "      <th>7</th>\n",
       "      <td>0.9</td>\n",
       "      <td>0</td>\n",
       "      <td>0</td>\n",
       "      <td>0</td>\n",
       "    </tr>\n",
       "  </tbody>\n",
       "</table>\n",
       "</div>"
      ],
      "text/plain": [
       "   probs  gauge  battery  fuel\n",
       "0    0.8      1        1     1\n",
       "1    0.2      1        1     0\n",
       "2    0.2      1        0     1\n",
       "3    0.1      1        0     0\n",
       "4    0.2      0        1     1\n",
       "5    0.8      0        1     0\n",
       "6    0.8      0        0     1\n",
       "7    0.9      0        0     0"
      ]
     },
     "execution_count": 638,
     "metadata": {},
     "output_type": "execute_result"
    }
   ],
   "source": [
    "g"
   ]
  },
  {
   "cell_type": "code",
   "execution_count": 615,
   "metadata": {
    "collapsed": false
   },
   "outputs": [
    {
     "data": {
      "text/html": [
       "<div>\n",
       "<table border=\"1\" class=\"dataframe\">\n",
       "  <thead>\n",
       "    <tr style=\"text-align: right;\">\n",
       "      <th></th>\n",
       "      <th>probs</th>\n",
       "      <th>fuel</th>\n",
       "      <th>battery</th>\n",
       "      <th>gauge</th>\n",
       "    </tr>\n",
       "  </thead>\n",
       "  <tbody>\n",
       "    <tr>\n",
       "      <th>0</th>\n",
       "      <td>0.648</td>\n",
       "      <td>1</td>\n",
       "      <td>1</td>\n",
       "      <td>1</td>\n",
       "    </tr>\n",
       "    <tr>\n",
       "      <th>1</th>\n",
       "      <td>0.162</td>\n",
       "      <td>1</td>\n",
       "      <td>1</td>\n",
       "      <td>0</td>\n",
       "    </tr>\n",
       "    <tr>\n",
       "      <th>2</th>\n",
       "      <td>0.018</td>\n",
       "      <td>0</td>\n",
       "      <td>1</td>\n",
       "      <td>1</td>\n",
       "    </tr>\n",
       "    <tr>\n",
       "      <th>3</th>\n",
       "      <td>0.072</td>\n",
       "      <td>0</td>\n",
       "      <td>1</td>\n",
       "      <td>0</td>\n",
       "    </tr>\n",
       "    <tr>\n",
       "      <th>4</th>\n",
       "      <td>0.018</td>\n",
       "      <td>1</td>\n",
       "      <td>0</td>\n",
       "      <td>1</td>\n",
       "    </tr>\n",
       "    <tr>\n",
       "      <th>5</th>\n",
       "      <td>0.072</td>\n",
       "      <td>1</td>\n",
       "      <td>0</td>\n",
       "      <td>0</td>\n",
       "    </tr>\n",
       "    <tr>\n",
       "      <th>6</th>\n",
       "      <td>0.001</td>\n",
       "      <td>0</td>\n",
       "      <td>0</td>\n",
       "      <td>1</td>\n",
       "    </tr>\n",
       "    <tr>\n",
       "      <th>7</th>\n",
       "      <td>0.009</td>\n",
       "      <td>0</td>\n",
       "      <td>0</td>\n",
       "      <td>0</td>\n",
       "    </tr>\n",
       "  </tbody>\n",
       "</table>\n",
       "</div>"
      ],
      "text/plain": [
       "   probs  fuel  battery  gauge\n",
       "0  0.648     1        1      1\n",
       "1  0.162     1        1      0\n",
       "2  0.018     0        1      1\n",
       "3  0.072     0        1      0\n",
       "4  0.018     1        0      1\n",
       "5  0.072     1        0      0\n",
       "6  0.001     0        0      1\n",
       "7  0.009     0        0      0"
      ]
     },
     "execution_count": 615,
     "metadata": {},
     "output_type": "execute_result"
    }
   ],
   "source": [
    "factor_product(factor_product(b, f), g)"
   ]
  },
  {
   "cell_type": "code",
   "execution_count": 616,
   "metadata": {
    "collapsed": false
   },
   "outputs": [
    {
     "data": {
      "text/html": [
       "<div>\n",
       "<table border=\"1\" class=\"dataframe\">\n",
       "  <thead>\n",
       "    <tr style=\"text-align: right;\">\n",
       "      <th></th>\n",
       "      <th>probs</th>\n",
       "      <th>battery</th>\n",
       "      <th>fuel</th>\n",
       "      <th>gauge</th>\n",
       "    </tr>\n",
       "  </thead>\n",
       "  <tbody>\n",
       "    <tr>\n",
       "      <th>0</th>\n",
       "      <td>0.648</td>\n",
       "      <td>1</td>\n",
       "      <td>1</td>\n",
       "      <td>1</td>\n",
       "    </tr>\n",
       "    <tr>\n",
       "      <th>1</th>\n",
       "      <td>0.018</td>\n",
       "      <td>1</td>\n",
       "      <td>0</td>\n",
       "      <td>1</td>\n",
       "    </tr>\n",
       "    <tr>\n",
       "      <th>2</th>\n",
       "      <td>0.018</td>\n",
       "      <td>0</td>\n",
       "      <td>1</td>\n",
       "      <td>1</td>\n",
       "    </tr>\n",
       "    <tr>\n",
       "      <th>3</th>\n",
       "      <td>0.001</td>\n",
       "      <td>0</td>\n",
       "      <td>0</td>\n",
       "      <td>1</td>\n",
       "    </tr>\n",
       "    <tr>\n",
       "      <th>4</th>\n",
       "      <td>0.162</td>\n",
       "      <td>1</td>\n",
       "      <td>1</td>\n",
       "      <td>0</td>\n",
       "    </tr>\n",
       "    <tr>\n",
       "      <th>5</th>\n",
       "      <td>0.072</td>\n",
       "      <td>1</td>\n",
       "      <td>0</td>\n",
       "      <td>0</td>\n",
       "    </tr>\n",
       "    <tr>\n",
       "      <th>6</th>\n",
       "      <td>0.072</td>\n",
       "      <td>0</td>\n",
       "      <td>1</td>\n",
       "      <td>0</td>\n",
       "    </tr>\n",
       "    <tr>\n",
       "      <th>7</th>\n",
       "      <td>0.009</td>\n",
       "      <td>0</td>\n",
       "      <td>0</td>\n",
       "      <td>0</td>\n",
       "    </tr>\n",
       "  </tbody>\n",
       "</table>\n",
       "</div>"
      ],
      "text/plain": [
       "   probs  battery  fuel  gauge\n",
       "0  0.648        1     1      1\n",
       "1  0.018        1     0      1\n",
       "2  0.018        0     1      1\n",
       "3  0.001        0     0      1\n",
       "4  0.162        1     1      0\n",
       "5  0.072        1     0      0\n",
       "6  0.072        0     1      0\n",
       "7  0.009        0     0      0"
      ]
     },
     "execution_count": 616,
     "metadata": {},
     "output_type": "execute_result"
    }
   ],
   "source": [
    "factor_product(factor_product(g, f), b)"
   ]
  },
  {
   "cell_type": "code",
   "execution_count": 617,
   "metadata": {
    "collapsed": false
   },
   "outputs": [
    {
     "data": {
      "text/html": [
       "<div>\n",
       "<table border=\"1\" class=\"dataframe\">\n",
       "  <thead>\n",
       "    <tr style=\"text-align: right;\">\n",
       "      <th></th>\n",
       "      <th>probs</th>\n",
       "      <th>fuel</th>\n",
       "      <th>battery</th>\n",
       "    </tr>\n",
       "  </thead>\n",
       "  <tbody>\n",
       "    <tr>\n",
       "      <th>0</th>\n",
       "      <td>0.9</td>\n",
       "      <td>1</td>\n",
       "      <td>1</td>\n",
       "    </tr>\n",
       "    <tr>\n",
       "      <th>1</th>\n",
       "      <td>0.9</td>\n",
       "      <td>0</td>\n",
       "      <td>1</td>\n",
       "    </tr>\n",
       "    <tr>\n",
       "      <th>2</th>\n",
       "      <td>0.1</td>\n",
       "      <td>1</td>\n",
       "      <td>0</td>\n",
       "    </tr>\n",
       "    <tr>\n",
       "      <th>3</th>\n",
       "      <td>0.1</td>\n",
       "      <td>0</td>\n",
       "      <td>0</td>\n",
       "    </tr>\n",
       "  </tbody>\n",
       "</table>\n",
       "</div>"
      ],
      "text/plain": [
       "   probs  fuel  battery\n",
       "0    0.9     1        1\n",
       "1    0.9     0        1\n",
       "2    0.1     1        0\n",
       "3    0.1     0        0"
      ]
     },
     "execution_count": 617,
     "metadata": {},
     "output_type": "execute_result"
    }
   ],
   "source": [
    "marginalize_factor(factor_product(g, b), \"gauge\")\n"
   ]
  },
  {
   "cell_type": "code",
   "execution_count": 618,
   "metadata": {
    "collapsed": false
   },
   "outputs": [
    {
     "data": {
      "text/html": [
       "<div>\n",
       "<table border=\"1\" class=\"dataframe\">\n",
       "  <thead>\n",
       "    <tr style=\"text-align: right;\">\n",
       "      <th></th>\n",
       "      <th>probs</th>\n",
       "      <th>battery</th>\n",
       "      <th>fuel</th>\n",
       "    </tr>\n",
       "  </thead>\n",
       "  <tbody>\n",
       "    <tr>\n",
       "      <th>0</th>\n",
       "      <td>0.9</td>\n",
       "      <td>1</td>\n",
       "      <td>1</td>\n",
       "    </tr>\n",
       "    <tr>\n",
       "      <th>1</th>\n",
       "      <td>0.9</td>\n",
       "      <td>1</td>\n",
       "      <td>0</td>\n",
       "    </tr>\n",
       "    <tr>\n",
       "      <th>2</th>\n",
       "      <td>0.1</td>\n",
       "      <td>0</td>\n",
       "      <td>1</td>\n",
       "    </tr>\n",
       "    <tr>\n",
       "      <th>3</th>\n",
       "      <td>0.1</td>\n",
       "      <td>0</td>\n",
       "      <td>0</td>\n",
       "    </tr>\n",
       "  </tbody>\n",
       "</table>\n",
       "</div>"
      ],
      "text/plain": [
       "   probs  battery  fuel\n",
       "0    0.9        1     1\n",
       "1    0.9        1     0\n",
       "2    0.1        0     1\n",
       "3    0.1        0     0"
      ]
     },
     "execution_count": 618,
     "metadata": {},
     "output_type": "execute_result"
    }
   ],
   "source": [
    "factor_product(marginalize_factor(g, \"gauge\"), b)"
   ]
  },
  {
   "cell_type": "code",
   "execution_count": 714,
   "metadata": {
    "collapsed": false
   },
   "outputs": [
    {
     "data": {
      "text/html": [
       "<div>\n",
       "<table border=\"1\" class=\"dataframe\">\n",
       "  <thead>\n",
       "    <tr style=\"text-align: right;\">\n",
       "      <th></th>\n",
       "      <th>probs</th>\n",
       "      <th>fuel</th>\n",
       "      <th>gauge</th>\n",
       "    </tr>\n",
       "  </thead>\n",
       "  <tbody>\n",
       "    <tr>\n",
       "      <th>0</th>\n",
       "      <td>0.742857</td>\n",
       "      <td>1</td>\n",
       "      <td>0</td>\n",
       "    </tr>\n",
       "    <tr>\n",
       "      <th>1</th>\n",
       "      <td>0.257143</td>\n",
       "      <td>0</td>\n",
       "      <td>0</td>\n",
       "    </tr>\n",
       "  </tbody>\n",
       "</table>\n",
       "</div>"
      ],
      "text/plain": [
       "      probs  fuel  gauge\n",
       "0  0.742857     1      0\n",
       "1  0.257143     0      0"
      ]
     },
     "execution_count": 714,
     "metadata": {},
     "output_type": "execute_result"
    }
   ],
   "source": [
    "infer(car_net, [\"battery\"], [\"gauge\"], [0])"
   ]
  },
  {
   "cell_type": "code",
   "execution_count": 716,
   "metadata": {
    "collapsed": false
   },
   "outputs": [
    {
     "data": {
      "text/html": [
       "<div>\n",
       "<table border=\"1\" class=\"dataframe\">\n",
       "  <thead>\n",
       "    <tr style=\"text-align: right;\">\n",
       "      <th></th>\n",
       "      <th>probs</th>\n",
       "      <th>gauge</th>\n",
       "    </tr>\n",
       "  </thead>\n",
       "  <tbody>\n",
       "    <tr>\n",
       "      <th>0</th>\n",
       "      <td>0.685</td>\n",
       "      <td>1</td>\n",
       "    </tr>\n",
       "    <tr>\n",
       "      <th>1</th>\n",
       "      <td>0.315</td>\n",
       "      <td>0</td>\n",
       "    </tr>\n",
       "  </tbody>\n",
       "</table>\n",
       "</div>"
      ],
      "text/plain": [
       "   probs  gauge\n",
       "0  0.685      1\n",
       "1  0.315      0"
      ]
     },
     "execution_count": 716,
     "metadata": {},
     "output_type": "execute_result"
    }
   ],
   "source": [
    "infer(car_net, [\"battery\", \"fuel\"], [], [])"
   ]
  },
  {
   "cell_type": "code",
   "execution_count": 717,
   "metadata": {
    "collapsed": false
   },
   "outputs": [
    {
     "data": {
      "text/html": [
       "<div>\n",
       "<table border=\"1\" class=\"dataframe\">\n",
       "  <thead>\n",
       "    <tr style=\"text-align: right;\">\n",
       "      <th></th>\n",
       "      <th>probs</th>\n",
       "      <th>fuel</th>\n",
       "      <th>gauge</th>\n",
       "    </tr>\n",
       "  </thead>\n",
       "  <tbody>\n",
       "    <tr>\n",
       "      <th>0</th>\n",
       "      <td>0.19</td>\n",
       "      <td>0</td>\n",
       "      <td>1</td>\n",
       "    </tr>\n",
       "    <tr>\n",
       "      <th>1</th>\n",
       "      <td>0.81</td>\n",
       "      <td>0</td>\n",
       "      <td>0</td>\n",
       "    </tr>\n",
       "  </tbody>\n",
       "</table>\n",
       "</div>"
      ],
      "text/plain": [
       "   probs  fuel  gauge\n",
       "0   0.19     0      1\n",
       "1   0.81     0      0"
      ]
     },
     "execution_count": 717,
     "metadata": {},
     "output_type": "execute_result"
    }
   ],
   "source": [
    "infer(car_net, [\"battery\"], [\"fuel\"], [0])"
   ]
  },
  {
   "cell_type": "code",
   "execution_count": 718,
   "metadata": {
    "collapsed": false
   },
   "outputs": [
    {
     "data": {
      "text/html": [
       "<div>\n",
       "<table border=\"1\" class=\"dataframe\">\n",
       "  <thead>\n",
       "    <tr style=\"text-align: right;\">\n",
       "      <th></th>\n",
       "      <th>probs</th>\n",
       "      <th>fuel</th>\n",
       "      <th>battery</th>\n",
       "      <th>gauge</th>\n",
       "    </tr>\n",
       "  </thead>\n",
       "  <tbody>\n",
       "    <tr>\n",
       "      <th>0</th>\n",
       "      <td>0.888889</td>\n",
       "      <td>1</td>\n",
       "      <td>0</td>\n",
       "      <td>0</td>\n",
       "    </tr>\n",
       "    <tr>\n",
       "      <th>1</th>\n",
       "      <td>0.111111</td>\n",
       "      <td>0</td>\n",
       "      <td>0</td>\n",
       "      <td>0</td>\n",
       "    </tr>\n",
       "  </tbody>\n",
       "</table>\n",
       "</div>"
      ],
      "text/plain": [
       "      probs  fuel  battery  gauge\n",
       "0  0.888889     1        0      0\n",
       "1  0.111111     0        0      0"
      ]
     },
     "execution_count": 718,
     "metadata": {},
     "output_type": "execute_result"
    }
   ],
   "source": [
    "infer(car_net, [],[\"gauge\", \"battery\"], [0, 0])"
   ]
  },
  {
   "cell_type": "code",
   "execution_count": 732,
   "metadata": {
    "collapsed": true
   },
   "outputs": [],
   "source": [
    "\n",
    "chol = create_cpt([\"s\", \"c\"], [.8, .2, .4, .6], [(1, 0), (1, 0)])\n",
    "smoke = create_cpt([\"s\"], [.15, .85], [(1, 0)])\n",
    "bp = create_cpt([\"e\", \"s\", \"b\"], \n",
    "                [.45, .55, .05, .95, .95, .05, .55, .45], \n",
    "                [(1, 0), (1, 0), (1, 0)])\n",
    "exercise = create_cpt([\"e\"], [.4, .6], [(1, 0)])\n",
    "attack = create_cpt([\"b\", \"a\"], [.75, .25, .05, .95], [(1, 0), (1, 0)])\n",
    "heart_net = [exercise, smoke, chol, bp, attack]\n"
   ]
  },
  {
   "cell_type": "code",
   "execution_count": 733,
   "metadata": {
    "collapsed": false
   },
   "outputs": [
    {
     "data": {
      "text/plain": [
       "[   probs  e\n",
       " 0    0.4  1\n",
       " 1    0.6  0,    probs  s\n",
       " 0   0.15  1\n",
       " 1   0.85  0,    probs  s  c\n",
       " 0    0.8  1  1\n",
       " 1    0.2  1  0\n",
       " 2    0.4  0  1\n",
       " 3    0.6  0  0,    probs  e  s  b\n",
       " 0   0.45  1  1  1\n",
       " 1   0.55  1  1  0\n",
       " 2   0.05  1  0  1\n",
       " 3   0.95  1  0  0\n",
       " 4   0.95  0  1  1\n",
       " 5   0.05  0  1  0\n",
       " 6   0.55  0  0  1\n",
       " 7   0.45  0  0  0,    probs  b  a\n",
       " 0   0.75  1  1\n",
       " 1   0.25  1  0\n",
       " 2   0.05  0  1\n",
       " 3   0.95  0  0]"
      ]
     },
     "execution_count": 733,
     "metadata": {},
     "output_type": "execute_result"
    }
   ],
   "source": [
    "heart_net"
   ]
  },
  {
   "cell_type": "code",
   "execution_count": 734,
   "metadata": {
    "collapsed": false
   },
   "outputs": [
    {
     "data": {
      "text/html": [
       "<div>\n",
       "<table border=\"1\" class=\"dataframe\">\n",
       "  <thead>\n",
       "    <tr style=\"text-align: right;\">\n",
       "      <th></th>\n",
       "      <th>probs</th>\n",
       "      <th>a</th>\n",
       "    </tr>\n",
       "  </thead>\n",
       "  <tbody>\n",
       "    <tr>\n",
       "      <th>0</th>\n",
       "      <td>0.575</td>\n",
       "      <td>1</td>\n",
       "    </tr>\n",
       "    <tr>\n",
       "      <th>1</th>\n",
       "      <td>0.425</td>\n",
       "      <td>0</td>\n",
       "    </tr>\n",
       "  </tbody>\n",
       "</table>\n",
       "</div>"
      ],
      "text/plain": [
       "   probs  a\n",
       "0  0.575  1\n",
       "1  0.425  0"
      ]
     },
     "execution_count": 734,
     "metadata": {},
     "output_type": "execute_result"
    }
   ],
   "source": [
    "infer(heart_net, [\"c\", \"b\", \"e\", \"s\"], [\"s\"], [1])"
   ]
  },
  {
   "cell_type": "code",
   "execution_count": 735,
   "metadata": {
    "collapsed": false
   },
   "outputs": [
    {
     "data": {
      "text/html": [
       "<div>\n",
       "<table border=\"1\" class=\"dataframe\">\n",
       "  <thead>\n",
       "    <tr style=\"text-align: right;\">\n",
       "      <th></th>\n",
       "      <th>probs</th>\n",
       "      <th>b</th>\n",
       "    </tr>\n",
       "  </thead>\n",
       "  <tbody>\n",
       "    <tr>\n",
       "      <th>0</th>\n",
       "      <td>0.912463</td>\n",
       "      <td>1</td>\n",
       "    </tr>\n",
       "    <tr>\n",
       "      <th>1</th>\n",
       "      <td>0.087537</td>\n",
       "      <td>0</td>\n",
       "    </tr>\n",
       "  </tbody>\n",
       "</table>\n",
       "</div>"
      ],
      "text/plain": [
       "      probs  b\n",
       "0  0.912463  1\n",
       "1  0.087537  0"
      ]
     },
     "execution_count": 735,
     "metadata": {},
     "output_type": "execute_result"
    }
   ],
   "source": [
    "infer(heart_net, [\"c\", \"a\", \"e\", \"s\"], [\"a\"], [1])"
   ]
  },
  {
   "cell_type": "code",
   "execution_count": 740,
   "metadata": {
    "collapsed": false
   },
   "outputs": [
    {
     "data": {
      "text/html": [
       "<div>\n",
       "<table border=\"1\" class=\"dataframe\">\n",
       "  <thead>\n",
       "    <tr style=\"text-align: right;\">\n",
       "      <th></th>\n",
       "      <th>probs</th>\n",
       "      <th>s</th>\n",
       "    </tr>\n",
       "  </thead>\n",
       "  <tbody>\n",
       "    <tr>\n",
       "      <th>0</th>\n",
       "      <td>0.27439</td>\n",
       "      <td>1</td>\n",
       "    </tr>\n",
       "    <tr>\n",
       "      <th>1</th>\n",
       "      <td>0.72561</td>\n",
       "      <td>0</td>\n",
       "    </tr>\n",
       "  </tbody>\n",
       "</table>\n",
       "</div>"
      ],
      "text/plain": [
       "     probs  s\n",
       "0  0.27439  1\n",
       "1  0.72561  0"
      ]
     },
     "execution_count": 740,
     "metadata": {},
     "output_type": "execute_result"
    }
   ],
   "source": [
    "infer(heart_net, [\"c\", \"a\", \"b\", \"e\"], [\"b\"], [1])"
   ]
  },
  {
   "cell_type": "code",
   "execution_count": 741,
   "metadata": {
    "collapsed": false
   },
   "outputs": [
    {
     "data": {
      "text/html": [
       "<div>\n",
       "<table border=\"1\" class=\"dataframe\">\n",
       "  <thead>\n",
       "    <tr style=\"text-align: right;\">\n",
       "      <th></th>\n",
       "      <th>probs</th>\n",
       "      <th>e</th>\n",
       "    </tr>\n",
       "  </thead>\n",
       "  <tbody>\n",
       "    <tr>\n",
       "      <th>0</th>\n",
       "      <td>0.107317</td>\n",
       "      <td>1</td>\n",
       "    </tr>\n",
       "    <tr>\n",
       "      <th>1</th>\n",
       "      <td>0.892683</td>\n",
       "      <td>0</td>\n",
       "    </tr>\n",
       "  </tbody>\n",
       "</table>\n",
       "</div>"
      ],
      "text/plain": [
       "      probs  e\n",
       "0  0.107317  1\n",
       "1  0.892683  0"
      ]
     },
     "execution_count": 741,
     "metadata": {},
     "output_type": "execute_result"
    }
   ],
   "source": [
    "infer(heart_net, [\"c\", \"a\", \"b\", \"s\"], [\"b\"], [1])"
   ]
  },
  {
   "cell_type": "code",
   "execution_count": 744,
   "metadata": {
    "collapsed": false
   },
   "outputs": [
    {
     "name": "stdout",
     "output_type": "stream",
     "text": [
      "      probs  s\n",
      "0  0.613636  1\n",
      "1  0.386364  0\n"
     ]
    }
   ],
   "source": [
    "print infer(heart_net, [\"c\", \"a\", \"b\", \"e\"], [\"b\", \"e\"], [1, 1])"
   ]
  },
  {
   "cell_type": "code",
   "execution_count": 745,
   "metadata": {
    "collapsed": false
   },
   "outputs": [
    {
     "data": {
      "text/html": [
       "<div>\n",
       "<table border=\"1\" class=\"dataframe\">\n",
       "  <thead>\n",
       "    <tr style=\"text-align: right;\">\n",
       "      <th></th>\n",
       "      <th>probs</th>\n",
       "      <th>s</th>\n",
       "      <th>e</th>\n",
       "    </tr>\n",
       "  </thead>\n",
       "  <tbody>\n",
       "    <tr>\n",
       "      <th>0</th>\n",
       "      <td>0.065854</td>\n",
       "      <td>1</td>\n",
       "      <td>1</td>\n",
       "    </tr>\n",
       "    <tr>\n",
       "      <th>1</th>\n",
       "      <td>0.041463</td>\n",
       "      <td>0</td>\n",
       "      <td>1</td>\n",
       "    </tr>\n",
       "    <tr>\n",
       "      <th>2</th>\n",
       "      <td>0.208537</td>\n",
       "      <td>1</td>\n",
       "      <td>0</td>\n",
       "    </tr>\n",
       "    <tr>\n",
       "      <th>3</th>\n",
       "      <td>0.684146</td>\n",
       "      <td>0</td>\n",
       "      <td>0</td>\n",
       "    </tr>\n",
       "  </tbody>\n",
       "</table>\n",
       "</div>"
      ],
      "text/plain": [
       "      probs  s  e\n",
       "0  0.065854  1  1\n",
       "1  0.041463  0  1\n",
       "2  0.208537  1  0\n",
       "3  0.684146  0  0"
      ]
     },
     "execution_count": 745,
     "metadata": {},
     "output_type": "execute_result"
    }
   ],
   "source": [
    "infer(heart_net, [\"c\", \"a\", \"b\"], [\"b\"], [1])"
   ]
  },
  {
   "cell_type": "code",
   "execution_count": null,
   "metadata": {
    "collapsed": true
   },
   "outputs": [],
   "source": []
  },
  {
   "cell_type": "code",
   "execution_count": null,
   "metadata": {
    "collapsed": true
   },
   "outputs": [],
   "source": []
  },
  {
   "cell_type": "code",
   "execution_count": null,
   "metadata": {
    "collapsed": true
   },
   "outputs": [],
   "source": []
  }
 ],
 "metadata": {
  "kernelspec": {
   "display_name": "Python 2",
   "language": "python",
   "name": "python2"
  },
  "language_info": {
   "codemirror_mode": {
    "name": "ipython",
    "version": 2
   },
   "file_extension": ".py",
   "mimetype": "text/x-python",
   "name": "python",
   "nbconvert_exporter": "python",
   "pygments_lexer": "ipython2",
   "version": "2.7.10"
  }
 },
 "nbformat": 4,
 "nbformat_minor": 0
}
